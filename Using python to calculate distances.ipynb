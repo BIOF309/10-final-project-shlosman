{
 "cells": [
  {
   "cell_type": "markdown",
   "metadata": {},
   "source": [
    "# Introduction:\n",
    "\n",
    "## The world of transporters and the mechanism of substrate translocation.\n",
    "\n",
    "Transporters are membrane-embedded proteins that translocate a wide range of substrates - ions, small molecules, big molecules - across the membrane. Primary active transporters utilize energy in the form of ATP to achieve this process, whereas secondary active transporters rely on the electrochemical gradient of one substrate to power the movement of the other. Regardless of the source of energy, all transporters need to undergo certain conformational motions to bind, translocate and release their substrates. It has been proposed \n",
    "\n",
    "\n"
   ]
  },
  {
   "cell_type": "code",
   "execution_count": 1,
   "metadata": {},
   "outputs": [
    {
     "ename": "FileNotFoundError",
     "evalue": "[Errno 2] No such file or directory: 'Aligned_Model.pdb'",
     "output_type": "error",
     "traceback": [
      "\u001b[0;31m---------------------------------------------------------------------------\u001b[0m",
      "\u001b[0;31mFileNotFoundError\u001b[0m                         Traceback (most recent call last)",
      "\u001b[0;32m<ipython-input-1-08b14522d0e5>\u001b[0m in \u001b[0;36m<module>\u001b[0;34m()\u001b[0m\n\u001b[1;32m     50\u001b[0m \u001b[0mgeneral_out\u001b[0m\u001b[0;34m=\u001b[0m\u001b[0;34m\"diff_CB_dist_2.txt\"\u001b[0m \u001b[0;31m#differences in the distances between the two structures\u001b[0m\u001b[0;34m\u001b[0m\u001b[0m\n\u001b[1;32m     51\u001b[0m \u001b[0;34m\u001b[0m\u001b[0m\n\u001b[0;32m---> 52\u001b[0;31m \u001b[0mdist1\u001b[0m\u001b[0;34m=\u001b[0m\u001b[0moutput_distances\u001b[0m\u001b[0;34m(\u001b[0m\u001b[0minput1\u001b[0m\u001b[0;34m,\u001b[0m\u001b[0moutput1\u001b[0m\u001b[0;34m)\u001b[0m\u001b[0;34m\u001b[0m\u001b[0m\n\u001b[0m\u001b[1;32m     53\u001b[0m \u001b[0mdist2\u001b[0m\u001b[0;34m=\u001b[0m\u001b[0moutput_distances\u001b[0m\u001b[0;34m(\u001b[0m\u001b[0minput2\u001b[0m\u001b[0;34m,\u001b[0m\u001b[0moutput2\u001b[0m\u001b[0;34m)\u001b[0m\u001b[0;34m\u001b[0m\u001b[0m\n\u001b[1;32m     54\u001b[0m \u001b[0mout\u001b[0m\u001b[0;34m=\u001b[0m\u001b[0mopen\u001b[0m\u001b[0;34m(\u001b[0m\u001b[0mgeneral_out\u001b[0m\u001b[0;34m,\u001b[0m\u001b[0;34m\"w\"\u001b[0m\u001b[0;34m)\u001b[0m\u001b[0;34m\u001b[0m\u001b[0m\n",
      "\u001b[0;32m<ipython-input-1-08b14522d0e5>\u001b[0m in \u001b[0;36moutput_distances\u001b[0;34m(input, output)\u001b[0m\n\u001b[1;32m      8\u001b[0m \u001b[0;34m\u001b[0m\u001b[0m\n\u001b[1;32m      9\u001b[0m \u001b[0;32mdef\u001b[0m \u001b[0moutput_distances\u001b[0m\u001b[0;34m(\u001b[0m\u001b[0minput\u001b[0m\u001b[0;34m,\u001b[0m\u001b[0moutput\u001b[0m\u001b[0;34m)\u001b[0m\u001b[0;34m:\u001b[0m \u001b[0;31m# input is the path to the 'in' file, output is the path to the 'out' file\u001b[0m\u001b[0;34m\u001b[0m\u001b[0m\n\u001b[0;32m---> 10\u001b[0;31m     \u001b[0mf\u001b[0m\u001b[0;34m=\u001b[0m\u001b[0mopen\u001b[0m\u001b[0;34m(\u001b[0m\u001b[0minput\u001b[0m\u001b[0;34m,\u001b[0m\u001b[0;34m\"r\"\u001b[0m\u001b[0;34m)\u001b[0m \u001b[0;31m#open and read the file\u001b[0m\u001b[0;34m\u001b[0m\u001b[0m\n\u001b[0m\u001b[1;32m     11\u001b[0m     \u001b[0mcoord\u001b[0m\u001b[0;34m=\u001b[0m\u001b[0;34m[\u001b[0m\u001b[0;34m]\u001b[0m \u001b[0;31m# empty array which will store indices and coordinates of the CB atoms\u001b[0m\u001b[0;34m\u001b[0m\u001b[0m\n\u001b[1;32m     12\u001b[0m     \u001b[0;32mfor\u001b[0m \u001b[0mline\u001b[0m \u001b[0;32min\u001b[0m \u001b[0mf\u001b[0m\u001b[0;34m:\u001b[0m \u001b[0;31m#this loop extracts coordinates\u001b[0m\u001b[0;34m\u001b[0m\u001b[0m\n",
      "\u001b[0;31mFileNotFoundError\u001b[0m: [Errno 2] No such file or directory: 'Aligned_Model.pdb'"
     ]
    }
   ],
   "source": [
    "# Name: difference_in_CB_distances.py\n",
    "# Authors: I would like to acknowledge that a post-doc helped me write this coe\n",
    "# Date of final version: 12 Dec 2017\n",
    "# Description: Given two PDB files of the same protein (which represent two conformational states), it calculates all distances between their CB atoms, outputs them and then outputs a file with the difference between the distances in the two files (diff_CB_dist.txt)\n",
    "\n",
    "import os\n",
    "import numpy as np\n",
    "#Write a function that reads two pdb file, extracts CB coordinates for all residues in them (with the exception of glycines, which don't have CB atoms, so their CA coordinates are taken instead), appends them to two separate arrays and calculates the distances between CB atoms for these two pdb files. It then compares the distances between the two structures and outputs a file containing their differences.\n",
    "\n",
    "def output_distances(input,output): # input is the path to the 'in' file, output is the path to the 'out' file\n",
    "    f=open(input,\"r\") #open and read the file\n",
    "    coord=[] # empty array which will store indices and coordinates of the CB atoms\n",
    "    for line in f: #this loop extracts coordinates\n",
    "        if line.startswith(\"ATOM\") and line[12:16].strip()=='CB': #accessing the lines of the pdb file that list atomic coordinates\n",
    "            x,y,z=float(line[30:38]),float(line[38:46]),float(line[46:54])\n",
    "            coord.append((line[22:26].strip(),x,y,z)) #appending the residue number and its CB coordinates to the array\n",
    "        elif line.startswith(\"ATOM\") and line[12:16].strip() =='CA' and line[17:20].strip()=='GLY': #a separate loop for glycines: doing the same thing but for their CA atoms\n",
    "            x,y,z=float(line[30:38]),float(line[38:46]),float(line[46:54])\n",
    "            coord.append((line[22:26].strip(),x,y,z)) \n",
    "    f.close()\n",
    "    \n",
    "    #this loop goes through the coord file and calculates all the distances between atoms, storing them in a matrix called 'dist'\n",
    "    dist1=[]  # list of the form [(2,[0.0,5.43,2.41,...]),(3,[1.7,0.0,14.23,5.6,...),...]; i.e. each element is (#residue_id, [distance to CB, distance to CB, ...])\n",
    "    for i, elem in enumerate(coord):\n",
    "        tmp=[]\n",
    "        for j in coord:\n",
    "            dist=(np.sqrt(((elem[1]-j[1])**2+(elem[2]-j[2])**2+(elem[3]-j[3])**2)))  # stores the distance between the current residue's CB atom and the CB atoms of all other residues in the protein\n",
    "            tmp.append(dist)\n",
    "        dist1.append((elem[0],tmp))\n",
    "#Adding labels to dist1 \n",
    "    out=open(output,\"w\")\n",
    "    out.write(\"ID\\t\")\n",
    "    for i, elem in enumerate(dist1):\n",
    "        out.write(elem[0]+'\\t')\n",
    "    out.write('\\n')\n",
    "    for i, elem in enumerate(dist1):\n",
    "        out.write(elem[0]+'\\t')\n",
    "        for d in elem[1]:\n",
    "            out.write(str(d)+'\\t')\n",
    "        out.write('\\n')\n",
    "    out.close()\n",
    "\n",
    "    return dist1\n",
    "\n",
    "\n",
    "# Define inputs and outputs of the function \n",
    "input1=\"Aligned_Model.pdb\" #model of the inward-facing state, which is to be tested experimentally\n",
    "output1=input1[:-4]+\"_CB_dist_2 .txt\" #all CB atom-atom distances  of Aligned_Model\n",
    "input2=\"clean_struct.pdb\" #X-ray structure of the outward-facing state\n",
    "output2=input2[:-4]+\"_CB_dist_2.txt\" #call CB atom-atom distances of X-ray structure\n",
    "general_out=\"diff_CB_dist_2.txt\" #differences in the distances between the two structures\n",
    "\n",
    "dist1=output_distances(input1,output1)\n",
    "dist2=output_distances(input2,output2)\n",
    "out=open(general_out,\"w\")\n",
    "out.write(\"ID\\t\") #residue ID, i.e. label for the matrix indices\n",
    "for i, elem in enumerate(dist1):\n",
    "    out.write(elem[0]+'\\t') #residue number labels in the matrix\n",
    "out.write('\\n')\n",
    "for i, elem in enumerate(dist1):\n",
    "    out.write(elem[0]+'\\t')\n",
    "    for j, d1 in enumerate(elem[1]):\n",
    "        assert elem[0]==dist2[i][0], \"Not the same protein! Check residue ids!\" #This assures that only the distances between the same residues are compared, in case the two structures don't have the same number of residues\n",
    "        out.write(str(float('%.3f'% abs(d1-dist2[i][1][j])))+'\\t') #The difference in distances is converted to an absolute value\n",
    "    out.write('\\n')\n",
    "out.close()\n"
   ]
  },
  {
   "cell_type": "markdown",
   "metadata": {},
   "source": [
    "I ran the code in the terminal, and it worked, giving three files as output. Surprisingly, it was unable to open files in Jupyter Notebooks. I proceeded to use them with pandas to sort through the distances."
   ]
  },
  {
   "cell_type": "code",
   "execution_count": null,
   "metadata": {
    "collapsed": true
   },
   "outputs": [],
   "source": []
  }
 ],
 "metadata": {
  "kernelspec": {
   "display_name": "Python 3",
   "language": "python",
   "name": "python3"
  },
  "language_info": {
   "codemirror_mode": {
    "name": "ipython",
    "version": 3
   },
   "file_extension": ".py",
   "mimetype": "text/x-python",
   "name": "python",
   "nbconvert_exporter": "python",
   "pygments_lexer": "ipython3",
   "version": "3.6.1"
  }
 },
 "nbformat": 4,
 "nbformat_minor": 2
}
